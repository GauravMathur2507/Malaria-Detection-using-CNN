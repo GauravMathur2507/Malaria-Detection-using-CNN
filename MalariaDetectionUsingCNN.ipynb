{
 "cells": [
  {
   "cell_type": "code",
   "execution_count": 1,
   "id": "086c703d",
   "metadata": {},
   "outputs": [],
   "source": [
    "import numpy as np"
   ]
  },
  {
   "cell_type": "code",
   "execution_count": 2,
   "id": "56992a64",
   "metadata": {},
   "outputs": [],
   "source": [
    "import matplotlib.pyplot as plt"
   ]
  },
  {
   "cell_type": "code",
   "execution_count": null,
   "id": "e86a2a46",
   "metadata": {},
   "outputs": [],
   "source": []
  },
  {
   "cell_type": "code",
   "execution_count": 3,
   "id": "2d9de50a",
   "metadata": {},
   "outputs": [],
   "source": [
    "import tensorflow as tf"
   ]
  },
  {
   "cell_type": "code",
   "execution_count": 4,
   "id": "b169e732",
   "metadata": {},
   "outputs": [],
   "source": [
    "from tensorflow.keras.layers import Input, Lambda, Dense, Flatten,Conv2D"
   ]
  },
  {
   "cell_type": "code",
   "execution_count": 5,
   "id": "a19564d6",
   "metadata": {},
   "outputs": [],
   "source": [
    "# import the libraries as shown below\n",
    "\n",
    "from tensorflow.keras.layers import Input, Lambda, Dense, Flatten,Conv2D\n",
    "from tensorflow.keras.models import Model\n",
    "from tensorflow.keras.applications.vgg19 import VGG19\n",
    "from tensorflow.keras.applications.resnet50 import preprocess_input\n",
    "from tensorflow.keras.preprocessing import image\n",
    "from tensorflow.keras.preprocessing.image import ImageDataGenerator,load_img\n",
    "from tensorflow.keras.models import Sequential\n",
    "import numpy as np\n",
    "from glob import glob\n",
    "import matplotlib.pyplot as plt"
   ]
  },
  {
   "cell_type": "code",
   "execution_count": 6,
   "id": "3b3f4ce3",
   "metadata": {},
   "outputs": [],
   "source": [
    "# re-size all the images to this\n",
    "IMAGE_SIZE = [224, 224]\n",
    "\n",
    "train_path = 'Dataset/Train'\n",
    "valid_path = 'Dataset/Test'"
   ]
  },
  {
   "cell_type": "code",
   "execution_count": 7,
   "id": "9bf2eecb",
   "metadata": {},
   "outputs": [],
   "source": [
    "# Import the Vgg 16 library as shown below and add preprocessing layer to the front of VGG\n",
    "# Here we will be using imagenet weights\n",
    "\n",
    "mobilnet = VGG19(input_shape=IMAGE_SIZE + [3], weights='imagenet', include_top=False)"
   ]
  },
  {
   "cell_type": "code",
   "execution_count": 8,
   "id": "dc855b3f",
   "metadata": {},
   "outputs": [],
   "source": [
    "# don't train existing weights\n",
    "for layer in mobilnet.layers:\n",
    "    layer.trainable = False"
   ]
  },
  {
   "cell_type": "code",
   "execution_count": 9,
   "id": "b0e50de3",
   "metadata": {},
   "outputs": [],
   "source": [
    "# useful for getting number of output classes\n",
    "folders = glob('Dataset/Train/*')"
   ]
  },
  {
   "cell_type": "code",
   "execution_count": 10,
   "id": "fe29789b",
   "metadata": {},
   "outputs": [
    {
     "data": {
      "text/plain": [
       "['Dataset/Train\\\\Parasite', 'Dataset/Train\\\\Uninfected']"
      ]
     },
     "execution_count": 10,
     "metadata": {},
     "output_type": "execute_result"
    }
   ],
   "source": [
    "folders"
   ]
  },
  {
   "cell_type": "code",
   "execution_count": 11,
   "id": "66e897c3",
   "metadata": {},
   "outputs": [],
   "source": [
    "# our layers - you can add more if you want\n",
    "x = Flatten()(mobilnet.output)"
   ]
  },
  {
   "cell_type": "code",
   "execution_count": 12,
   "id": "98a98242",
   "metadata": {},
   "outputs": [],
   "source": [
    "prediction = Dense(len(folders), activation='softmax')(x)\n",
    "\n",
    "# create a model object\n",
    "model = Model(inputs=mobilnet.input, outputs=prediction)"
   ]
  },
  {
   "cell_type": "code",
   "execution_count": 13,
   "id": "77c7462d",
   "metadata": {},
   "outputs": [
    {
     "name": "stdout",
     "output_type": "stream",
     "text": [
      "Model: \"functional_1\"\n",
      "_________________________________________________________________\n",
      "Layer (type)                 Output Shape              Param #   \n",
      "=================================================================\n",
      "input_1 (InputLayer)         [(None, 224, 224, 3)]     0         \n",
      "_________________________________________________________________\n",
      "block1_conv1 (Conv2D)        (None, 224, 224, 64)      1792      \n",
      "_________________________________________________________________\n",
      "block1_conv2 (Conv2D)        (None, 224, 224, 64)      36928     \n",
      "_________________________________________________________________\n",
      "block1_pool (MaxPooling2D)   (None, 112, 112, 64)      0         \n",
      "_________________________________________________________________\n",
      "block2_conv1 (Conv2D)        (None, 112, 112, 128)     73856     \n",
      "_________________________________________________________________\n",
      "block2_conv2 (Conv2D)        (None, 112, 112, 128)     147584    \n",
      "_________________________________________________________________\n",
      "block2_pool (MaxPooling2D)   (None, 56, 56, 128)       0         \n",
      "_________________________________________________________________\n",
      "block3_conv1 (Conv2D)        (None, 56, 56, 256)       295168    \n",
      "_________________________________________________________________\n",
      "block3_conv2 (Conv2D)        (None, 56, 56, 256)       590080    \n",
      "_________________________________________________________________\n",
      "block3_conv3 (Conv2D)        (None, 56, 56, 256)       590080    \n",
      "_________________________________________________________________\n",
      "block3_conv4 (Conv2D)        (None, 56, 56, 256)       590080    \n",
      "_________________________________________________________________\n",
      "block3_pool (MaxPooling2D)   (None, 28, 28, 256)       0         \n",
      "_________________________________________________________________\n",
      "block4_conv1 (Conv2D)        (None, 28, 28, 512)       1180160   \n",
      "_________________________________________________________________\n",
      "block4_conv2 (Conv2D)        (None, 28, 28, 512)       2359808   \n",
      "_________________________________________________________________\n",
      "block4_conv3 (Conv2D)        (None, 28, 28, 512)       2359808   \n",
      "_________________________________________________________________\n",
      "block4_conv4 (Conv2D)        (None, 28, 28, 512)       2359808   \n",
      "_________________________________________________________________\n",
      "block4_pool (MaxPooling2D)   (None, 14, 14, 512)       0         \n",
      "_________________________________________________________________\n",
      "block5_conv1 (Conv2D)        (None, 14, 14, 512)       2359808   \n",
      "_________________________________________________________________\n",
      "block5_conv2 (Conv2D)        (None, 14, 14, 512)       2359808   \n",
      "_________________________________________________________________\n",
      "block5_conv3 (Conv2D)        (None, 14, 14, 512)       2359808   \n",
      "_________________________________________________________________\n",
      "block5_conv4 (Conv2D)        (None, 14, 14, 512)       2359808   \n",
      "_________________________________________________________________\n",
      "block5_pool (MaxPooling2D)   (None, 7, 7, 512)         0         \n",
      "_________________________________________________________________\n",
      "flatten (Flatten)            (None, 25088)             0         \n",
      "_________________________________________________________________\n",
      "dense (Dense)                (None, 2)                 50178     \n",
      "=================================================================\n",
      "Total params: 20,074,562\n",
      "Trainable params: 50,178\n",
      "Non-trainable params: 20,024,384\n",
      "_________________________________________________________________\n"
     ]
    }
   ],
   "source": [
    "model.summary()"
   ]
  },
  {
   "cell_type": "code",
   "execution_count": 14,
   "id": "f55db17b",
   "metadata": {},
   "outputs": [],
   "source": [
    "from tensorflow.keras.layers import MaxPooling2D"
   ]
  },
  {
   "cell_type": "code",
   "execution_count": 15,
   "id": "0edae6e3",
   "metadata": {},
   "outputs": [
    {
     "name": "stdout",
     "output_type": "stream",
     "text": [
      "Model: \"sequential\"\n",
      "_________________________________________________________________\n",
      "Layer (type)                 Output Shape              Param #   \n",
      "=================================================================\n",
      "conv2d (Conv2D)              (None, 224, 224, 16)      208       \n",
      "_________________________________________________________________\n",
      "max_pooling2d (MaxPooling2D) (None, 112, 112, 16)      0         \n",
      "_________________________________________________________________\n",
      "conv2d_1 (Conv2D)            (None, 112, 112, 32)      2080      \n",
      "_________________________________________________________________\n",
      "max_pooling2d_1 (MaxPooling2 (None, 56, 56, 32)        0         \n",
      "_________________________________________________________________\n",
      "conv2d_2 (Conv2D)            (None, 56, 56, 64)        8256      \n",
      "_________________________________________________________________\n",
      "max_pooling2d_2 (MaxPooling2 (None, 28, 28, 64)        0         \n",
      "_________________________________________________________________\n",
      "flatten_1 (Flatten)          (None, 50176)             0         \n",
      "_________________________________________________________________\n",
      "dense_1 (Dense)              (None, 500)               25088500  \n",
      "_________________________________________________________________\n",
      "dense_2 (Dense)              (None, 2)                 1002      \n",
      "=================================================================\n",
      "Total params: 25,100,046\n",
      "Trainable params: 25,100,046\n",
      "Non-trainable params: 0\n",
      "_________________________________________________________________\n"
     ]
    }
   ],
   "source": [
    "### Create Model from scratch using CNN\n",
    "model=Sequential()\n",
    "model.add(Conv2D(filters=16,kernel_size=2,padding=\"same\",activation=\"relu\",input_shape=(224,224,3)))\n",
    "model.add(MaxPooling2D(pool_size=2))\n",
    "model.add(Conv2D(filters=32,kernel_size=2,padding=\"same\",activation =\"relu\"))\n",
    "model.add(MaxPooling2D(pool_size=2))\n",
    "model.add(Conv2D(filters=64,kernel_size=2,padding=\"same\",activation=\"relu\"))\n",
    "model.add(MaxPooling2D(pool_size=2))\n",
    "model.add(Flatten())\n",
    "model.add(Dense(500,activation=\"relu\"))\n",
    "model.add(Dense(2,activation=\"softmax\"))\n",
    "model.summary()"
   ]
  },
  {
   "cell_type": "code",
   "execution_count": 16,
   "id": "cca5b0bd",
   "metadata": {},
   "outputs": [],
   "source": [
    "# tell the model what cost and optimization method to use\n",
    "model.compile(\n",
    "  loss='categorical_crossentropy',\n",
    "  optimizer='adam',\n",
    "  metrics=['accuracy']\n",
    ")"
   ]
  },
  {
   "cell_type": "code",
   "execution_count": 17,
   "id": "55d4afb9",
   "metadata": {},
   "outputs": [],
   "source": [
    "# Use the Image Data Generator to import the images from the dataset\n",
    "from tensorflow.keras.preprocessing.image import ImageDataGenerator\n",
    "\n",
    "train_datagen = ImageDataGenerator(rescale = 1./255,\n",
    "                                   shear_range = 0.2,\n",
    "                                   zoom_range = 0.2,\n",
    "                                   horizontal_flip = True)\n",
    "\n",
    "test_datagen = ImageDataGenerator(rescale = 1./255)"
   ]
  },
  {
   "cell_type": "code",
   "execution_count": 18,
   "id": "ffaf4341",
   "metadata": {},
   "outputs": [
    {
     "name": "stdout",
     "output_type": "stream",
     "text": [
      "Found 416 images belonging to 2 classes.\n"
     ]
    }
   ],
   "source": [
    "# Make sure you provide the same target size as initialied for the image size\n",
    "training_set = train_datagen.flow_from_directory('Dataset/Train',\n",
    "                                                 target_size = (224, 224),\n",
    "                                                 batch_size = 32,\n",
    "                                                 class_mode = 'categorical')"
   ]
  },
  {
   "cell_type": "code",
   "execution_count": 19,
   "id": "33d2800c",
   "metadata": {},
   "outputs": [
    {
     "data": {
      "text/plain": [
       "<tensorflow.python.keras.preprocessing.image.DirectoryIterator at 0x1a3064960a0>"
      ]
     },
     "execution_count": 19,
     "metadata": {},
     "output_type": "execute_result"
    }
   ],
   "source": [
    "training_set"
   ]
  },
  {
   "cell_type": "code",
   "execution_count": 20,
   "id": "3221c408",
   "metadata": {},
   "outputs": [
    {
     "name": "stdout",
     "output_type": "stream",
     "text": [
      "Found 134 images belonging to 2 classes.\n"
     ]
    }
   ],
   "source": [
    "test_set = test_datagen.flow_from_directory('Dataset/Test',\n",
    "                                            target_size = (224, 224),\n",
    "                                          batch_size = 32,\n",
    "                                            class_mode = 'categorical')"
   ]
  },
  {
   "cell_type": "code",
   "execution_count": 21,
   "id": "f3444098",
   "metadata": {},
   "outputs": [
    {
     "name": "stdout",
     "output_type": "stream",
     "text": [
      "WARNING:tensorflow:From <ipython-input-21-69229fe26ea3>:3: Model.fit_generator (from tensorflow.python.keras.engine.training) is deprecated and will be removed in a future version.\n",
      "Instructions for updating:\n",
      "Please use Model.fit, which supports generators.\n",
      "Epoch 1/50\n",
      "13/13 [==============================] - 53s 4s/step - loss: 2.1936 - accuracy: 0.5240 - val_loss: 0.6838 - val_accuracy: 0.6791\n",
      "Epoch 2/50\n",
      "13/13 [==============================] - 23s 2s/step - loss: 0.6956 - accuracy: 0.5649 - val_loss: 0.6997 - val_accuracy: 0.4179\n",
      "Epoch 3/50\n",
      "13/13 [==============================] - 24s 2s/step - loss: 0.6491 - accuracy: 0.6442 - val_loss: 0.7267 - val_accuracy: 0.4030\n",
      "Epoch 4/50\n",
      "13/13 [==============================] - 23s 2s/step - loss: 0.6411 - accuracy: 0.6034 - val_loss: 0.6924 - val_accuracy: 0.4701\n",
      "Epoch 5/50\n",
      "13/13 [==============================] - 23s 2s/step - loss: 0.5708 - accuracy: 0.7163 - val_loss: 0.8133 - val_accuracy: 0.4328\n",
      "Epoch 6/50\n",
      "13/13 [==============================] - 26s 2s/step - loss: 0.5164 - accuracy: 0.7356 - val_loss: 0.7960 - val_accuracy: 0.4851\n",
      "Epoch 7/50\n",
      "13/13 [==============================] - 29s 2s/step - loss: 0.4670 - accuracy: 0.7788 - val_loss: 0.8780 - val_accuracy: 0.3955\n",
      "Epoch 8/50\n",
      "13/13 [==============================] - 27s 2s/step - loss: 0.4908 - accuracy: 0.7404 - val_loss: 0.8948 - val_accuracy: 0.4403\n",
      "Epoch 9/50\n",
      "13/13 [==============================] - 27s 2s/step - loss: 0.4241 - accuracy: 0.8101 - val_loss: 0.8618 - val_accuracy: 0.5448\n",
      "Epoch 10/50\n",
      "13/13 [==============================] - 27s 2s/step - loss: 0.4188 - accuracy: 0.8149 - val_loss: 0.9055 - val_accuracy: 0.4179\n",
      "Epoch 11/50\n",
      "13/13 [==============================] - 28s 2s/step - loss: 0.3918 - accuracy: 0.8462 - val_loss: 0.9193 - val_accuracy: 0.4478\n",
      "Epoch 12/50\n",
      "13/13 [==============================] - 27s 2s/step - loss: 0.4654 - accuracy: 0.7957 - val_loss: 0.5274 - val_accuracy: 0.7388\n",
      "Epoch 13/50\n",
      "13/13 [==============================] - 27s 2s/step - loss: 0.4661 - accuracy: 0.8053 - val_loss: 0.7168 - val_accuracy: 0.5373\n",
      "Epoch 14/50\n",
      "13/13 [==============================] - 27s 2s/step - loss: 0.3663 - accuracy: 0.8510 - val_loss: 0.8960 - val_accuracy: 0.5224\n",
      "Epoch 15/50\n",
      "13/13 [==============================] - 28s 2s/step - loss: 0.3601 - accuracy: 0.8365 - val_loss: 0.5677 - val_accuracy: 0.6866\n",
      "Epoch 16/50\n",
      "13/13 [==============================] - 28s 2s/step - loss: 0.3749 - accuracy: 0.8558 - val_loss: 0.5607 - val_accuracy: 0.6642\n",
      "Epoch 17/50\n",
      "13/13 [==============================] - 23s 2s/step - loss: 0.3057 - accuracy: 0.8894 - val_loss: 0.6832 - val_accuracy: 0.6194\n",
      "Epoch 18/50\n",
      "13/13 [==============================] - 24s 2s/step - loss: 0.2932 - accuracy: 0.8798 - val_loss: 0.7102 - val_accuracy: 0.5821\n",
      "Epoch 19/50\n",
      "13/13 [==============================] - 22s 2s/step - loss: 0.2682 - accuracy: 0.9062 - val_loss: 0.8281 - val_accuracy: 0.6045\n",
      "Epoch 20/50\n",
      "13/13 [==============================] - 21s 2s/step - loss: 0.3310 - accuracy: 0.8630 - val_loss: 0.5473 - val_accuracy: 0.7090\n",
      "Epoch 21/50\n",
      "13/13 [==============================] - 27s 2s/step - loss: 0.4838 - accuracy: 0.7668 - val_loss: 0.7556 - val_accuracy: 0.4776\n",
      "Epoch 22/50\n",
      "13/13 [==============================] - 23s 2s/step - loss: 0.3822 - accuracy: 0.8606 - val_loss: 0.5143 - val_accuracy: 0.7090\n",
      "Epoch 23/50\n",
      "13/13 [==============================] - 21s 2s/step - loss: 0.2544 - accuracy: 0.9183 - val_loss: 0.5422 - val_accuracy: 0.7164\n",
      "Epoch 24/50\n",
      "13/13 [==============================] - 24s 2s/step - loss: 0.2121 - accuracy: 0.9255 - val_loss: 0.5198 - val_accuracy: 0.7388\n",
      "Epoch 25/50\n",
      "13/13 [==============================] - 26s 2s/step - loss: 0.2394 - accuracy: 0.9231 - val_loss: 0.3599 - val_accuracy: 0.8433\n",
      "Epoch 26/50\n",
      "13/13 [==============================] - 27s 2s/step - loss: 0.1859 - accuracy: 0.9447 - val_loss: 0.5558 - val_accuracy: 0.7463\n",
      "Epoch 27/50\n",
      "13/13 [==============================] - 28s 2s/step - loss: 0.1564 - accuracy: 0.9495 - val_loss: 0.4965 - val_accuracy: 0.7537\n",
      "Epoch 28/50\n",
      "13/13 [==============================] - 24s 2s/step - loss: 0.1399 - accuracy: 0.9591 - val_loss: 0.4701 - val_accuracy: 0.7985\n",
      "Epoch 29/50\n",
      "13/13 [==============================] - 28s 2s/step - loss: 0.1351 - accuracy: 0.9567 - val_loss: 0.4994 - val_accuracy: 0.7612\n",
      "Epoch 30/50\n",
      "13/13 [==============================] - 21s 2s/step - loss: 0.1399 - accuracy: 0.9615 - val_loss: 0.4977 - val_accuracy: 0.7985\n",
      "Epoch 31/50\n",
      "13/13 [==============================] - 28s 2s/step - loss: 0.1330 - accuracy: 0.9519 - val_loss: 0.3383 - val_accuracy: 0.8209\n",
      "Epoch 32/50\n",
      "13/13 [==============================] - 31s 2s/step - loss: 0.1449 - accuracy: 0.9591 - val_loss: 0.2836 - val_accuracy: 0.8881\n",
      "Epoch 33/50\n",
      "13/13 [==============================] - 29s 2s/step - loss: 0.1146 - accuracy: 0.9712 - val_loss: 0.4943 - val_accuracy: 0.7612\n",
      "Epoch 34/50\n",
      "13/13 [==============================] - 28s 2s/step - loss: 0.1433 - accuracy: 0.9615 - val_loss: 0.4727 - val_accuracy: 0.7761\n",
      "Epoch 35/50\n",
      "13/13 [==============================] - 28s 2s/step - loss: 0.1092 - accuracy: 0.9663 - val_loss: 0.3488 - val_accuracy: 0.8209\n",
      "Epoch 36/50\n",
      "13/13 [==============================] - 26s 2s/step - loss: 0.1004 - accuracy: 0.9688 - val_loss: 0.6293 - val_accuracy: 0.7761\n",
      "Epoch 37/50\n",
      "13/13 [==============================] - 28s 2s/step - loss: 0.1261 - accuracy: 0.9639 - val_loss: 0.3172 - val_accuracy: 0.8806\n",
      "Epoch 38/50\n",
      "13/13 [==============================] - 29s 2s/step - loss: 0.1310 - accuracy: 0.9471 - val_loss: 0.2561 - val_accuracy: 0.9104\n",
      "Epoch 39/50\n",
      "13/13 [==============================] - 31s 2s/step - loss: 0.1402 - accuracy: 0.9615 - val_loss: 0.3025 - val_accuracy: 0.8806\n",
      "Epoch 40/50\n",
      "13/13 [==============================] - 29s 2s/step - loss: 0.0898 - accuracy: 0.9784 - val_loss: 0.4181 - val_accuracy: 0.8209\n",
      "Epoch 41/50\n",
      "13/13 [==============================] - 28s 2s/step - loss: 0.1017 - accuracy: 0.9615 - val_loss: 0.2531 - val_accuracy: 0.8881\n",
      "Epoch 42/50\n",
      "13/13 [==============================] - 28s 2s/step - loss: 0.0809 - accuracy: 0.9808 - val_loss: 0.2657 - val_accuracy: 0.8955\n",
      "Epoch 43/50\n",
      "13/13 [==============================] - 31s 2s/step - loss: 0.1118 - accuracy: 0.9663 - val_loss: 0.2239 - val_accuracy: 0.8955\n",
      "Epoch 44/50\n",
      "13/13 [==============================] - 29s 2s/step - loss: 0.0924 - accuracy: 0.9784 - val_loss: 0.4972 - val_accuracy: 0.8134\n",
      "Epoch 45/50\n",
      "13/13 [==============================] - 30s 2s/step - loss: 0.0767 - accuracy: 0.9760 - val_loss: 0.2604 - val_accuracy: 0.8806\n",
      "Epoch 46/50\n",
      "13/13 [==============================] - 32s 2s/step - loss: 0.1840 - accuracy: 0.9567 - val_loss: 0.2140 - val_accuracy: 0.9254\n",
      "Epoch 47/50\n",
      "13/13 [==============================] - 29s 2s/step - loss: 0.1973 - accuracy: 0.9255 - val_loss: 0.4921 - val_accuracy: 0.7761\n",
      "Epoch 48/50\n",
      "13/13 [==============================] - 31s 2s/step - loss: 0.1156 - accuracy: 0.9663 - val_loss: 0.2476 - val_accuracy: 0.8955\n",
      "Epoch 49/50\n",
      "13/13 [==============================] - 30s 2s/step - loss: 0.0918 - accuracy: 0.9688 - val_loss: 0.4436 - val_accuracy: 0.8209\n",
      "Epoch 50/50\n",
      "13/13 [==============================] - 30s 2s/step - loss: 0.0839 - accuracy: 0.9808 - val_loss: 0.2554 - val_accuracy: 0.8955\n"
     ]
    }
   ],
   "source": [
    "# fit the model\n",
    "# Run the cell. It will take some time to execute\n",
    "r = model.fit_generator(\n",
    "  training_set,\n",
    "  validation_data=test_set,\n",
    "  epochs=50,\n",
    "  steps_per_epoch=len(training_set),\n",
    "  validation_steps=len(test_set)\n",
    ")"
   ]
  },
  {
   "cell_type": "code",
   "execution_count": 22,
   "id": "2ffbf393",
   "metadata": {},
   "outputs": [],
   "source": [
    "import seaborn as sns"
   ]
  },
  {
   "cell_type": "code",
   "execution_count": 24,
   "id": "adcffab2",
   "metadata": {},
   "outputs": [
    {
     "data": {
      "image/png": "[encoded data removed]",
      "text/plain": [
       "<Figure size 432x288 with 1 Axes>"
      ]
     },
     "metadata": {
      "needs_background": "light"
     },
     "output_type": "display_data"
    },
    {
     "data": {
      "image/png": "[encoded data removed]",
      "text/plain": [
       "<Figure size 432x288 with 1 Axes>"
      ]
     },
     "metadata": {
      "needs_background": "light"
     },
     "output_type": "display_data"
    },
    {
     "data": {
      "text/plain": [
       "<Figure size 432x288 with 0 Axes>"
      ]
     },
     "metadata": {},
     "output_type": "display_data"
    }
   ],
   "source": [
    " #plot the loss\n",
    "plt.plot(r.history['loss'], label='train loss')\n",
    "plt.plot(r.history['val_loss'], label='val loss')\n",
    "plt.legend()\n",
    "plt.show()\n",
    "plt.savefig('LossVal_loss')\n",
    "\n",
    "# plot the accuracy\n",
    "plt.plot(r.history['accuracy'], label='train acc')\n",
    "plt.plot(r.history['val_accuracy'], label='val acc')\n",
    "plt.legend()\n",
    "plt.show()\n",
    "plt.savefig('AccVal_acc')"
   ]
  },
  {
   "cell_type": "code",
   "execution_count": 25,
   "id": "91323de1",
   "metadata": {},
   "outputs": [],
   "source": [
    "# save it as a h5 file\n",
    "\n",
    "\n",
    "from tensorflow.keras.models import load_model\n",
    "\n",
    "model.save('model_vgg19.h5')"
   ]
  },
  {
   "cell_type": "code",
   "execution_count": 26,
   "id": "fd4583df",
   "metadata": {},
   "outputs": [],
   "source": [
    "y_pred = model.predict(test_set)"
   ]
  },
  {
   "cell_type": "code",
   "execution_count": 27,
   "id": "75485c45",
   "metadata": {},
   "outputs": [],
   "source": [
    "\n",
    "y_pred = np.argmax(y_pred, axis=1)"
   ]
  },
  {
   "cell_type": "code",
   "execution_count": 28,
   "id": "ee225e18",
   "metadata": {},
   "outputs": [],
   "source": [
    "from tensorflow.keras.models import load_model\n",
    "from tensorflow.keras.preprocessing import image"
   ]
  },
  {
   "cell_type": "code",
   "execution_count": 29,
   "id": "ce70f1dc",
   "metadata": {},
   "outputs": [],
   "source": [
    "model=load_model('model_vgg19.h5')"
   ]
  },
  {
   "cell_type": "code",
   "execution_count": 30,
   "id": "51917e37",
   "metadata": {},
   "outputs": [],
   "source": [
    "img=image.load_img('Dataset/Test/Uninfected/2.png',target_size=(224,224))"
   ]
  },
  {
   "cell_type": "code",
   "execution_count": 31,
   "id": "6d119eee",
   "metadata": {},
   "outputs": [
    {
     "data": {
      "text/plain": [
       "array([[[0., 0., 0.],\n",
       "        [0., 0., 0.],\n",
       "        [0., 0., 0.],\n",
       "        ...,\n",
       "        [0., 0., 0.],\n",
       "        [0., 0., 0.],\n",
       "        [0., 0., 0.]],\n",
       "\n",
       "       [[0., 0., 0.],\n",
       "        [0., 0., 0.],\n",
       "        [0., 0., 0.],\n",
       "        ...,\n",
       "        [0., 0., 0.],\n",
       "        [0., 0., 0.],\n",
       "        [0., 0., 0.]],\n",
       "\n",
       "       [[0., 0., 0.],\n",
       "        [0., 0., 0.],\n",
       "        [0., 0., 0.],\n",
       "        ...,\n",
       "        [0., 0., 0.],\n",
       "        [0., 0., 0.],\n",
       "        [0., 0., 0.]],\n",
       "\n",
       "       ...,\n",
       "\n",
       "       [[0., 0., 0.],\n",
       "        [0., 0., 0.],\n",
       "        [0., 0., 0.],\n",
       "        ...,\n",
       "        [0., 0., 0.],\n",
       "        [0., 0., 0.],\n",
       "        [0., 0., 0.]],\n",
       "\n",
       "       [[0., 0., 0.],\n",
       "        [0., 0., 0.],\n",
       "        [0., 0., 0.],\n",
       "        ...,\n",
       "        [0., 0., 0.],\n",
       "        [0., 0., 0.],\n",
       "        [0., 0., 0.]],\n",
       "\n",
       "       [[0., 0., 0.],\n",
       "        [0., 0., 0.],\n",
       "        [0., 0., 0.],\n",
       "        ...,\n",
       "        [0., 0., 0.],\n",
       "        [0., 0., 0.],\n",
       "        [0., 0., 0.]]], dtype=float32)"
      ]
     },
     "execution_count": 31,
     "metadata": {},
     "output_type": "execute_result"
    }
   ],
   "source": [
    "x=image.img_to_array(img)\n",
    "x"
   ]
  },
  {
   "cell_type": "code",
   "execution_count": 32,
   "id": "7b5dc4db",
   "metadata": {},
   "outputs": [],
   "source": [
    "x=x/255"
   ]
  },
  {
   "cell_type": "code",
   "execution_count": 33,
   "id": "610f62e2",
   "metadata": {},
   "outputs": [
    {
     "data": {
      "text/plain": [
       "(1, 224, 224, 3)"
      ]
     },
     "execution_count": 33,
     "metadata": {},
     "output_type": "execute_result"
    }
   ],
   "source": [
    "x=np.expand_dims(x,axis=0)\n",
    "img_data=preprocess_input(x)\n",
    "img_data.shape"
   ]
  },
  {
   "cell_type": "code",
   "execution_count": 34,
   "id": "5e347fd4",
   "metadata": {},
   "outputs": [
    {
     "data": {
      "text/plain": [
       "array([[0., 1.]], dtype=float32)"
      ]
     },
     "execution_count": 34,
     "metadata": {},
     "output_type": "execute_result"
    }
   ],
   "source": [
    "model.predict(img_data)"
   ]
  },
  {
   "cell_type": "code",
   "execution_count": 35,
   "id": "e356e455",
   "metadata": {},
   "outputs": [],
   "source": [
    "a=np.argmax(model.predict(img_data), axis=1)"
   ]
  },
  {
   "cell_type": "code",
   "execution_count": 36,
   "id": "c9634132",
   "metadata": {},
   "outputs": [
    {
     "name": "stdout",
     "output_type": "stream",
     "text": [
      "Uninfected\n"
     ]
    }
   ],
   "source": [
    "if(a==1):\n",
    "    print(\"Uninfected\")\n",
    "else:\n",
    "    print(\"Infected\")"
   ]
  },
  {
   "cell_type": "code",
   "execution_count": null,
   "id": "e83b42e7",
   "metadata": {},
   "outputs": [],
   "source": []
  },
  {
   "cell_type": "code",
   "execution_count": null,
   "id": "e5fedfab",
   "metadata": {},
   "outputs": [],
   "source": []
  },
  {
   "cell_type": "code",
   "execution_count": null,
   "id": "79f05b63",
   "metadata": {},
   "outputs": [],
   "source": []
  }
 ],
 "metadata": {
  "kernelspec": {
   "display_name": "Python 3",
   "language": "python",
   "name": "python3"
  },
  "language_info": {
   "codemirror_mode": {
    "name": "ipython",
    "version": 3
   },
   "file_extension": ".py",
   "mimetype": "text/x-python",
   "name": "python",
   "nbconvert_exporter": "python",
   "pygments_lexer": "ipython3",
   "version": "3.8.10"
  }
 },
 "nbformat": 4,
 "nbformat_minor": 5
}
